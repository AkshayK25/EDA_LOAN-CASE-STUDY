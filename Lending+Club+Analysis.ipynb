{
  "nbformat": 4,
  "nbformat_minor": 0,
  "metadata": {
    "kernelspec": {
      "display_name": "Python 3",
      "language": "python",
      "name": "python3"
    },
    "language_info": {
      "codemirror_mode": {
        "name": "ipython",
        "version": 3
      },
      "file_extension": ".py",
      "mimetype": "text/x-python",
      "name": "python",
      "nbconvert_exporter": "python",
      "pygments_lexer": "ipython3",
      "version": "3.5.2"
    },
    "colab": {
      "name": "Lending+Club+Default+Analysis.ipynb",
      "version": "0.3.2",
      "provenance": [],
      "include_colab_link": true
    }
  },
  "cells": [
    {
      "cell_type": "markdown",
      "metadata": {
        "id": "view-in-github",
        "colab_type": "text"
      },
      "source": [
        "<a href=\"https://colab.research.google.com/github/AkshayK25/EDA_LOAN-CASE-STUDY/blob/master/Lending%2BClub%2BAnalysis.ipynb\" target=\"_parent\"><img src=\"https://colab.research.google.com/assets/colab-badge.svg\" alt=\"Open In Colab\"/></a>"
      ]
    },
    {
      "cell_type": "markdown",
      "metadata": {
        "id": "i0ZeALxDZ6lB",
        "colab_type": "text"
      },
      "source": [
        "# Lending Club Default Analysis\n",
        "\n",
        "The analysis is divided into four main parts:\n",
        "1. Data understanding \n",
        "2. Data cleaning (cleaning missing values, removing redundant columns etc.)\n",
        "3. Data Analysis \n",
        "4. Recommendations\n"
      ]
    },
    {
      "cell_type": "code",
      "metadata": {
        "id": "17tw8l_2Z6lD",
        "colab_type": "code",
        "colab": {
          "base_uri": "https://localhost:8080/",
          "height": 71
        },
        "outputId": "19e69c07-0350-4190-86a5-3186cee30e64"
      },
      "source": [
        "import numpy as np\n",
        "import pandas as pd\n",
        "import matplotlib.pyplot as plt\n",
        "import seaborn as sns\n",
        "\n",
        "loan = pd.read_csv(\"/content/loan.csv\", sep=\",\")"
      ],
      "execution_count": 80,
      "outputs": [
        {
          "output_type": "stream",
          "text": [
            "/usr/local/lib/python3.6/dist-packages/IPython/core/interactiveshell.py:2718: DtypeWarning: Columns (47) have mixed types. Specify dtype option on import or set low_memory=False.\n",
            "  interactivity=interactivity, compiler=compiler, result=result)\n"
          ],
          "name": "stderr"
        }
      ]
    },
    {
      "cell_type": "markdown",
      "metadata": {
        "id": "51fN0dGPZ6lJ",
        "colab_type": "text"
      },
      "source": [
        "## Data Understanding"
      ]
    },
    {
      "cell_type": "code",
      "metadata": {
        "id": "ySwyfDiHZ6lK",
        "colab_type": "code",
        "outputId": "df714883-20f0-44ac-fb64-0aabfe0e1416",
        "colab": {
          "base_uri": "https://localhost:8080/"
        }
      },
      "source": [
        "# let's look at the first few rows of the df\n",
        "loan.head()"
      ],
      "execution_count": 0,
      "outputs": [
        {
          "output_type": "execute_result",
          "data": {
            "text/html": [
              "<div>\n",
              "<style scoped>\n",
              "    .dataframe tbody tr th:only-of-type {\n",
              "        vertical-align: middle;\n",
              "    }\n",
              "\n",
              "    .dataframe tbody tr th {\n",
              "        vertical-align: top;\n",
              "    }\n",
              "\n",
              "    .dataframe thead th {\n",
              "        text-align: right;\n",
              "    }\n",
              "</style>\n",
              "<table border=\"1\" class=\"dataframe\">\n",
              "  <thead>\n",
              "    <tr style=\"text-align: right;\">\n",
              "      <th></th>\n",
              "      <th>id</th>\n",
              "      <th>member_id</th>\n",
              "      <th>loan_amnt</th>\n",
              "      <th>funded_amnt</th>\n",
              "      <th>funded_amnt_inv</th>\n",
              "      <th>term</th>\n",
              "      <th>int_rate</th>\n",
              "      <th>installment</th>\n",
              "      <th>grade</th>\n",
              "      <th>sub_grade</th>\n",
              "      <th>emp_title</th>\n",
              "      <th>emp_length</th>\n",
              "      <th>home_ownership</th>\n",
              "      <th>annual_inc</th>\n",
              "      <th>verification_status</th>\n",
              "      <th>issue_d</th>\n",
              "      <th>loan_status</th>\n",
              "      <th>pymnt_plan</th>\n",
              "      <th>url</th>\n",
              "      <th>desc</th>\n",
              "      <th>purpose</th>\n",
              "      <th>title</th>\n",
              "      <th>zip_code</th>\n",
              "      <th>addr_state</th>\n",
              "      <th>dti</th>\n",
              "      <th>delinq_2yrs</th>\n",
              "      <th>earliest_cr_line</th>\n",
              "      <th>inq_last_6mths</th>\n",
              "      <th>mths_since_last_delinq</th>\n",
              "      <th>mths_since_last_record</th>\n",
              "      <th>open_acc</th>\n",
              "      <th>pub_rec</th>\n",
              "      <th>revol_bal</th>\n",
              "      <th>revol_util</th>\n",
              "      <th>total_acc</th>\n",
              "      <th>initial_list_status</th>\n",
              "      <th>out_prncp</th>\n",
              "      <th>out_prncp_inv</th>\n",
              "      <th>total_pymnt</th>\n",
              "      <th>total_pymnt_inv</th>\n",
              "      <th>...</th>\n",
              "      <th>inq_fi</th>\n",
              "      <th>total_cu_tl</th>\n",
              "      <th>inq_last_12m</th>\n",
              "      <th>acc_open_past_24mths</th>\n",
              "      <th>avg_cur_bal</th>\n",
              "      <th>bc_open_to_buy</th>\n",
              "      <th>bc_util</th>\n",
              "      <th>chargeoff_within_12_mths</th>\n",
              "      <th>delinq_amnt</th>\n",
              "      <th>mo_sin_old_il_acct</th>\n",
              "      <th>mo_sin_old_rev_tl_op</th>\n",
              "      <th>mo_sin_rcnt_rev_tl_op</th>\n",
              "      <th>mo_sin_rcnt_tl</th>\n",
              "      <th>mort_acc</th>\n",
              "      <th>mths_since_recent_bc</th>\n",
              "      <th>mths_since_recent_bc_dlq</th>\n",
              "      <th>mths_since_recent_inq</th>\n",
              "      <th>mths_since_recent_revol_delinq</th>\n",
              "      <th>num_accts_ever_120_pd</th>\n",
              "      <th>num_actv_bc_tl</th>\n",
              "      <th>num_actv_rev_tl</th>\n",
              "      <th>num_bc_sats</th>\n",
              "      <th>num_bc_tl</th>\n",
              "      <th>num_il_tl</th>\n",
              "      <th>num_op_rev_tl</th>\n",
              "      <th>num_rev_accts</th>\n",
              "      <th>num_rev_tl_bal_gt_0</th>\n",
              "      <th>num_sats</th>\n",
              "      <th>num_tl_120dpd_2m</th>\n",
              "      <th>num_tl_30dpd</th>\n",
              "      <th>num_tl_90g_dpd_24m</th>\n",
              "      <th>num_tl_op_past_12m</th>\n",
              "      <th>pct_tl_nvr_dlq</th>\n",
              "      <th>percent_bc_gt_75</th>\n",
              "      <th>pub_rec_bankruptcies</th>\n",
              "      <th>tax_liens</th>\n",
              "      <th>tot_hi_cred_lim</th>\n",
              "      <th>total_bal_ex_mort</th>\n",
              "      <th>total_bc_limit</th>\n",
              "      <th>total_il_high_credit_limit</th>\n",
              "    </tr>\n",
              "  </thead>\n",
              "  <tbody>\n",
              "    <tr>\n",
              "      <th>0</th>\n",
              "      <td>1077501</td>\n",
              "      <td>1296599</td>\n",
              "      <td>5000</td>\n",
              "      <td>5000</td>\n",
              "      <td>4975.0</td>\n",
              "      <td>36 months</td>\n",
              "      <td>10.65%</td>\n",
              "      <td>162.87</td>\n",
              "      <td>B</td>\n",
              "      <td>B2</td>\n",
              "      <td>NaN</td>\n",
              "      <td>10+ years</td>\n",
              "      <td>RENT</td>\n",
              "      <td>24000.0</td>\n",
              "      <td>Verified</td>\n",
              "      <td>Dec-11</td>\n",
              "      <td>Fully Paid</td>\n",
              "      <td>n</td>\n",
              "      <td>https://lendingclub.com/browse/loanDetail.acti...</td>\n",
              "      <td>Borrower added on 12/22/11 &gt; I need to upgra...</td>\n",
              "      <td>credit_card</td>\n",
              "      <td>Computer</td>\n",
              "      <td>860xx</td>\n",
              "      <td>AZ</td>\n",
              "      <td>27.65</td>\n",
              "      <td>0</td>\n",
              "      <td>Jan-85</td>\n",
              "      <td>1</td>\n",
              "      <td>NaN</td>\n",
              "      <td>NaN</td>\n",
              "      <td>3</td>\n",
              "      <td>0</td>\n",
              "      <td>13648</td>\n",
              "      <td>83.70%</td>\n",
              "      <td>9</td>\n",
              "      <td>f</td>\n",
              "      <td>0.00</td>\n",
              "      <td>0.00</td>\n",
              "      <td>5863.155187</td>\n",
              "      <td>5833.84</td>\n",
              "      <td>...</td>\n",
              "      <td>NaN</td>\n",
              "      <td>NaN</td>\n",
              "      <td>NaN</td>\n",
              "      <td>NaN</td>\n",
              "      <td>NaN</td>\n",
              "      <td>NaN</td>\n",
              "      <td>NaN</td>\n",
              "      <td>0.0</td>\n",
              "      <td>0</td>\n",
              "      <td>NaN</td>\n",
              "      <td>NaN</td>\n",
              "      <td>NaN</td>\n",
              "      <td>NaN</td>\n",
              "      <td>NaN</td>\n",
              "      <td>NaN</td>\n",
              "      <td>NaN</td>\n",
              "      <td>NaN</td>\n",
              "      <td>NaN</td>\n",
              "      <td>NaN</td>\n",
              "      <td>NaN</td>\n",
              "      <td>NaN</td>\n",
              "      <td>NaN</td>\n",
              "      <td>NaN</td>\n",
              "      <td>NaN</td>\n",
              "      <td>NaN</td>\n",
              "      <td>NaN</td>\n",
              "      <td>NaN</td>\n",
              "      <td>NaN</td>\n",
              "      <td>NaN</td>\n",
              "      <td>NaN</td>\n",
              "      <td>NaN</td>\n",
              "      <td>NaN</td>\n",
              "      <td>NaN</td>\n",
              "      <td>NaN</td>\n",
              "      <td>0.0</td>\n",
              "      <td>0.0</td>\n",
              "      <td>NaN</td>\n",
              "      <td>NaN</td>\n",
              "      <td>NaN</td>\n",
              "      <td>NaN</td>\n",
              "    </tr>\n",
              "    <tr>\n",
              "      <th>1</th>\n",
              "      <td>1077430</td>\n",
              "      <td>1314167</td>\n",
              "      <td>2500</td>\n",
              "      <td>2500</td>\n",
              "      <td>2500.0</td>\n",
              "      <td>60 months</td>\n",
              "      <td>15.27%</td>\n",
              "      <td>59.83</td>\n",
              "      <td>C</td>\n",
              "      <td>C4</td>\n",
              "      <td>Ryder</td>\n",
              "      <td>&lt; 1 year</td>\n",
              "      <td>RENT</td>\n",
              "      <td>30000.0</td>\n",
              "      <td>Source Verified</td>\n",
              "      <td>Dec-11</td>\n",
              "      <td>Charged Off</td>\n",
              "      <td>n</td>\n",
              "      <td>https://lendingclub.com/browse/loanDetail.acti...</td>\n",
              "      <td>Borrower added on 12/22/11 &gt; I plan to use t...</td>\n",
              "      <td>car</td>\n",
              "      <td>bike</td>\n",
              "      <td>309xx</td>\n",
              "      <td>GA</td>\n",
              "      <td>1.00</td>\n",
              "      <td>0</td>\n",
              "      <td>Apr-99</td>\n",
              "      <td>5</td>\n",
              "      <td>NaN</td>\n",
              "      <td>NaN</td>\n",
              "      <td>3</td>\n",
              "      <td>0</td>\n",
              "      <td>1687</td>\n",
              "      <td>9.40%</td>\n",
              "      <td>4</td>\n",
              "      <td>f</td>\n",
              "      <td>0.00</td>\n",
              "      <td>0.00</td>\n",
              "      <td>1008.710000</td>\n",
              "      <td>1008.71</td>\n",
              "      <td>...</td>\n",
              "      <td>NaN</td>\n",
              "      <td>NaN</td>\n",
              "      <td>NaN</td>\n",
              "      <td>NaN</td>\n",
              "      <td>NaN</td>\n",
              "      <td>NaN</td>\n",
              "      <td>NaN</td>\n",
              "      <td>0.0</td>\n",
              "      <td>0</td>\n",
              "      <td>NaN</td>\n",
              "      <td>NaN</td>\n",
              "      <td>NaN</td>\n",
              "      <td>NaN</td>\n",
              "      <td>NaN</td>\n",
              "      <td>NaN</td>\n",
              "      <td>NaN</td>\n",
              "      <td>NaN</td>\n",
              "      <td>NaN</td>\n",
              "      <td>NaN</td>\n",
              "      <td>NaN</td>\n",
              "      <td>NaN</td>\n",
              "      <td>NaN</td>\n",
              "      <td>NaN</td>\n",
              "      <td>NaN</td>\n",
              "      <td>NaN</td>\n",
              "      <td>NaN</td>\n",
              "      <td>NaN</td>\n",
              "      <td>NaN</td>\n",
              "      <td>NaN</td>\n",
              "      <td>NaN</td>\n",
              "      <td>NaN</td>\n",
              "      <td>NaN</td>\n",
              "      <td>NaN</td>\n",
              "      <td>NaN</td>\n",
              "      <td>0.0</td>\n",
              "      <td>0.0</td>\n",
              "      <td>NaN</td>\n",
              "      <td>NaN</td>\n",
              "      <td>NaN</td>\n",
              "      <td>NaN</td>\n",
              "    </tr>\n",
              "    <tr>\n",
              "      <th>2</th>\n",
              "      <td>1077175</td>\n",
              "      <td>1313524</td>\n",
              "      <td>2400</td>\n",
              "      <td>2400</td>\n",
              "      <td>2400.0</td>\n",
              "      <td>36 months</td>\n",
              "      <td>15.96%</td>\n",
              "      <td>84.33</td>\n",
              "      <td>C</td>\n",
              "      <td>C5</td>\n",
              "      <td>NaN</td>\n",
              "      <td>10+ years</td>\n",
              "      <td>RENT</td>\n",
              "      <td>12252.0</td>\n",
              "      <td>Not Verified</td>\n",
              "      <td>Dec-11</td>\n",
              "      <td>Fully Paid</td>\n",
              "      <td>n</td>\n",
              "      <td>https://lendingclub.com/browse/loanDetail.acti...</td>\n",
              "      <td>NaN</td>\n",
              "      <td>small_business</td>\n",
              "      <td>real estate business</td>\n",
              "      <td>606xx</td>\n",
              "      <td>IL</td>\n",
              "      <td>8.72</td>\n",
              "      <td>0</td>\n",
              "      <td>Nov-01</td>\n",
              "      <td>2</td>\n",
              "      <td>NaN</td>\n",
              "      <td>NaN</td>\n",
              "      <td>2</td>\n",
              "      <td>0</td>\n",
              "      <td>2956</td>\n",
              "      <td>98.50%</td>\n",
              "      <td>10</td>\n",
              "      <td>f</td>\n",
              "      <td>0.00</td>\n",
              "      <td>0.00</td>\n",
              "      <td>3005.666844</td>\n",
              "      <td>3005.67</td>\n",
              "      <td>...</td>\n",
              "      <td>NaN</td>\n",
              "      <td>NaN</td>\n",
              "      <td>NaN</td>\n",
              "      <td>NaN</td>\n",
              "      <td>NaN</td>\n",
              "      <td>NaN</td>\n",
              "      <td>NaN</td>\n",
              "      <td>0.0</td>\n",
              "      <td>0</td>\n",
              "      <td>NaN</td>\n",
              "      <td>NaN</td>\n",
              "      <td>NaN</td>\n",
              "      <td>NaN</td>\n",
              "      <td>NaN</td>\n",
              "      <td>NaN</td>\n",
              "      <td>NaN</td>\n",
              "      <td>NaN</td>\n",
              "      <td>NaN</td>\n",
              "      <td>NaN</td>\n",
              "      <td>NaN</td>\n",
              "      <td>NaN</td>\n",
              "      <td>NaN</td>\n",
              "      <td>NaN</td>\n",
              "      <td>NaN</td>\n",
              "      <td>NaN</td>\n",
              "      <td>NaN</td>\n",
              "      <td>NaN</td>\n",
              "      <td>NaN</td>\n",
              "      <td>NaN</td>\n",
              "      <td>NaN</td>\n",
              "      <td>NaN</td>\n",
              "      <td>NaN</td>\n",
              "      <td>NaN</td>\n",
              "      <td>NaN</td>\n",
              "      <td>0.0</td>\n",
              "      <td>0.0</td>\n",
              "      <td>NaN</td>\n",
              "      <td>NaN</td>\n",
              "      <td>NaN</td>\n",
              "      <td>NaN</td>\n",
              "    </tr>\n",
              "    <tr>\n",
              "      <th>3</th>\n",
              "      <td>1076863</td>\n",
              "      <td>1277178</td>\n",
              "      <td>10000</td>\n",
              "      <td>10000</td>\n",
              "      <td>10000.0</td>\n",
              "      <td>36 months</td>\n",
              "      <td>13.49%</td>\n",
              "      <td>339.31</td>\n",
              "      <td>C</td>\n",
              "      <td>C1</td>\n",
              "      <td>AIR RESOURCES BOARD</td>\n",
              "      <td>10+ years</td>\n",
              "      <td>RENT</td>\n",
              "      <td>49200.0</td>\n",
              "      <td>Source Verified</td>\n",
              "      <td>Dec-11</td>\n",
              "      <td>Fully Paid</td>\n",
              "      <td>n</td>\n",
              "      <td>https://lendingclub.com/browse/loanDetail.acti...</td>\n",
              "      <td>Borrower added on 12/21/11 &gt; to pay for prop...</td>\n",
              "      <td>other</td>\n",
              "      <td>personel</td>\n",
              "      <td>917xx</td>\n",
              "      <td>CA</td>\n",
              "      <td>20.00</td>\n",
              "      <td>0</td>\n",
              "      <td>Feb-96</td>\n",
              "      <td>1</td>\n",
              "      <td>35.0</td>\n",
              "      <td>NaN</td>\n",
              "      <td>10</td>\n",
              "      <td>0</td>\n",
              "      <td>5598</td>\n",
              "      <td>21%</td>\n",
              "      <td>37</td>\n",
              "      <td>f</td>\n",
              "      <td>0.00</td>\n",
              "      <td>0.00</td>\n",
              "      <td>12231.890000</td>\n",
              "      <td>12231.89</td>\n",
              "      <td>...</td>\n",
              "      <td>NaN</td>\n",
              "      <td>NaN</td>\n",
              "      <td>NaN</td>\n",
              "      <td>NaN</td>\n",
              "      <td>NaN</td>\n",
              "      <td>NaN</td>\n",
              "      <td>NaN</td>\n",
              "      <td>0.0</td>\n",
              "      <td>0</td>\n",
              "      <td>NaN</td>\n",
              "      <td>NaN</td>\n",
              "      <td>NaN</td>\n",
              "      <td>NaN</td>\n",
              "      <td>NaN</td>\n",
              "      <td>NaN</td>\n",
              "      <td>NaN</td>\n",
              "      <td>NaN</td>\n",
              "      <td>NaN</td>\n",
              "      <td>NaN</td>\n",
              "      <td>NaN</td>\n",
              "      <td>NaN</td>\n",
              "      <td>NaN</td>\n",
              "      <td>NaN</td>\n",
              "      <td>NaN</td>\n",
              "      <td>NaN</td>\n",
              "      <td>NaN</td>\n",
              "      <td>NaN</td>\n",
              "      <td>NaN</td>\n",
              "      <td>NaN</td>\n",
              "      <td>NaN</td>\n",
              "      <td>NaN</td>\n",
              "      <td>NaN</td>\n",
              "      <td>NaN</td>\n",
              "      <td>NaN</td>\n",
              "      <td>0.0</td>\n",
              "      <td>0.0</td>\n",
              "      <td>NaN</td>\n",
              "      <td>NaN</td>\n",
              "      <td>NaN</td>\n",
              "      <td>NaN</td>\n",
              "    </tr>\n",
              "    <tr>\n",
              "      <th>4</th>\n",
              "      <td>1075358</td>\n",
              "      <td>1311748</td>\n",
              "      <td>3000</td>\n",
              "      <td>3000</td>\n",
              "      <td>3000.0</td>\n",
              "      <td>60 months</td>\n",
              "      <td>12.69%</td>\n",
              "      <td>67.79</td>\n",
              "      <td>B</td>\n",
              "      <td>B5</td>\n",
              "      <td>University Medical Group</td>\n",
              "      <td>1 year</td>\n",
              "      <td>RENT</td>\n",
              "      <td>80000.0</td>\n",
              "      <td>Source Verified</td>\n",
              "      <td>Dec-11</td>\n",
              "      <td>Current</td>\n",
              "      <td>n</td>\n",
              "      <td>https://lendingclub.com/browse/loanDetail.acti...</td>\n",
              "      <td>Borrower added on 12/21/11 &gt; I plan on combi...</td>\n",
              "      <td>other</td>\n",
              "      <td>Personal</td>\n",
              "      <td>972xx</td>\n",
              "      <td>OR</td>\n",
              "      <td>17.94</td>\n",
              "      <td>0</td>\n",
              "      <td>Jan-96</td>\n",
              "      <td>0</td>\n",
              "      <td>38.0</td>\n",
              "      <td>NaN</td>\n",
              "      <td>15</td>\n",
              "      <td>0</td>\n",
              "      <td>27783</td>\n",
              "      <td>53.90%</td>\n",
              "      <td>38</td>\n",
              "      <td>f</td>\n",
              "      <td>524.06</td>\n",
              "      <td>524.06</td>\n",
              "      <td>3513.330000</td>\n",
              "      <td>3513.33</td>\n",
              "      <td>...</td>\n",
              "      <td>NaN</td>\n",
              "      <td>NaN</td>\n",
              "      <td>NaN</td>\n",
              "      <td>NaN</td>\n",
              "      <td>NaN</td>\n",
              "      <td>NaN</td>\n",
              "      <td>NaN</td>\n",
              "      <td>0.0</td>\n",
              "      <td>0</td>\n",
              "      <td>NaN</td>\n",
              "      <td>NaN</td>\n",
              "      <td>NaN</td>\n",
              "      <td>NaN</td>\n",
              "      <td>NaN</td>\n",
              "      <td>NaN</td>\n",
              "      <td>NaN</td>\n",
              "      <td>NaN</td>\n",
              "      <td>NaN</td>\n",
              "      <td>NaN</td>\n",
              "      <td>NaN</td>\n",
              "      <td>NaN</td>\n",
              "      <td>NaN</td>\n",
              "      <td>NaN</td>\n",
              "      <td>NaN</td>\n",
              "      <td>NaN</td>\n",
              "      <td>NaN</td>\n",
              "      <td>NaN</td>\n",
              "      <td>NaN</td>\n",
              "      <td>NaN</td>\n",
              "      <td>NaN</td>\n",
              "      <td>NaN</td>\n",
              "      <td>NaN</td>\n",
              "      <td>NaN</td>\n",
              "      <td>NaN</td>\n",
              "      <td>0.0</td>\n",
              "      <td>0.0</td>\n",
              "      <td>NaN</td>\n",
              "      <td>NaN</td>\n",
              "      <td>NaN</td>\n",
              "      <td>NaN</td>\n",
              "    </tr>\n",
              "  </tbody>\n",
              "</table>\n",
              "<p>5 rows × 111 columns</p>\n",
              "</div>"
            ],
            "text/plain": [
              "        id  member_id  ...  total_bc_limit  total_il_high_credit_limit\n",
              "0  1077501    1296599  ...             NaN                         NaN\n",
              "1  1077430    1314167  ...             NaN                         NaN\n",
              "2  1077175    1313524  ...             NaN                         NaN\n",
              "3  1076863    1277178  ...             NaN                         NaN\n",
              "4  1075358    1311748  ...             NaN                         NaN\n",
              "\n",
              "[5 rows x 111 columns]"
            ]
          },
          "metadata": {
            "tags": []
          },
          "execution_count": 4
        }
      ]
    },
    {
      "cell_type": "code",
      "metadata": {
        "id": "lh7VUyccZ6lP",
        "colab_type": "code",
        "outputId": "cfee6f90-7fa8-42d1-99dc-71eef19084cc",
        "colab": {
          "base_uri": "https://localhost:8080/",
          "height": 153
        }
      },
      "source": [
        "# Looking at all the column names\n",
        "loan.columns"
      ],
      "execution_count": 5,
      "outputs": [
        {
          "output_type": "execute_result",
          "data": {
            "text/plain": [
              "Index(['id', 'member_id', 'loan_amnt', 'funded_amnt', 'funded_amnt_inv',\n",
              "       'term', 'int_rate', 'installment', 'grade', 'sub_grade',\n",
              "       ...\n",
              "       'num_tl_90g_dpd_24m', 'num_tl_op_past_12m', 'pct_tl_nvr_dlq',\n",
              "       'percent_bc_gt_75', 'pub_rec_bankruptcies', 'tax_liens',\n",
              "       'tot_hi_cred_lim', 'total_bal_ex_mort', 'total_bc_limit',\n",
              "       'total_il_high_credit_limit'],\n",
              "      dtype='object', length=111)"
            ]
          },
          "metadata": {
            "tags": []
          },
          "execution_count": 5
        }
      ]
    },
    {
      "cell_type": "markdown",
      "metadata": {
        "id": "zEO4BypbZ6lT",
        "colab_type": "text"
      },
      "source": [
        "Some of the important columns in the dataset are loan_amount, term, interest rate, grade, sub grade, annual income, purpose of the loan etc.\n",
        "\n",
        "The **target variable**, which we want to compare across the independent variables, is loan status. The strategy is to figure out compare the average default rates across various independent variables and identify the  ones that affect default rate the most.\n",
        "\n"
      ]
    },
    {
      "cell_type": "markdown",
      "metadata": {
        "id": "fZnAPUm2Z6lU",
        "colab_type": "text"
      },
      "source": [
        "# Data Cleaning\n",
        "\n",
        "Some columns have a large number of missing values, let's first fix the missing values and then check for other types of data quality problems."
      ]
    },
    {
      "cell_type": "code",
      "metadata": {
        "id": "vhzrc1AOZ6lW",
        "colab_type": "code",
        "outputId": "2a9db37c-d6d8-4152-9b5e-e1dd4def8509",
        "colab": {
          "base_uri": "https://localhost:8080/",
          "height": 1000
        }
      },
      "source": [
        "# summarising number of missing values in each column\n",
        "loan.isnull().sum()"
      ],
      "execution_count": 6,
      "outputs": [
        {
          "output_type": "execute_result",
          "data": {
            "text/plain": [
              "id                                    0\n",
              "member_id                             0\n",
              "loan_amnt                             0\n",
              "funded_amnt                           0\n",
              "funded_amnt_inv                       0\n",
              "term                                  0\n",
              "int_rate                              0\n",
              "installment                           0\n",
              "grade                                 0\n",
              "sub_grade                             0\n",
              "emp_title                          2459\n",
              "emp_length                         1075\n",
              "home_ownership                        0\n",
              "annual_inc                            0\n",
              "verification_status                   0\n",
              "issue_d                               0\n",
              "loan_status                           0\n",
              "pymnt_plan                            0\n",
              "url                                   0\n",
              "desc                              12940\n",
              "purpose                               0\n",
              "title                                11\n",
              "zip_code                              0\n",
              "addr_state                            0\n",
              "dti                                   0\n",
              "delinq_2yrs                           0\n",
              "earliest_cr_line                      0\n",
              "inq_last_6mths                        0\n",
              "mths_since_last_delinq            25682\n",
              "mths_since_last_record            36931\n",
              "                                  ...  \n",
              "mo_sin_old_rev_tl_op              39717\n",
              "mo_sin_rcnt_rev_tl_op             39717\n",
              "mo_sin_rcnt_tl                    39717\n",
              "mort_acc                          39717\n",
              "mths_since_recent_bc              39717\n",
              "mths_since_recent_bc_dlq          39717\n",
              "mths_since_recent_inq             39717\n",
              "mths_since_recent_revol_delinq    39717\n",
              "num_accts_ever_120_pd             39717\n",
              "num_actv_bc_tl                    39717\n",
              "num_actv_rev_tl                   39717\n",
              "num_bc_sats                       39717\n",
              "num_bc_tl                         39717\n",
              "num_il_tl                         39717\n",
              "num_op_rev_tl                     39717\n",
              "num_rev_accts                     39717\n",
              "num_rev_tl_bal_gt_0               39717\n",
              "num_sats                          39717\n",
              "num_tl_120dpd_2m                  39717\n",
              "num_tl_30dpd                      39717\n",
              "num_tl_90g_dpd_24m                39717\n",
              "num_tl_op_past_12m                39717\n",
              "pct_tl_nvr_dlq                    39717\n",
              "percent_bc_gt_75                  39717\n",
              "pub_rec_bankruptcies                697\n",
              "tax_liens                            39\n",
              "tot_hi_cred_lim                   39717\n",
              "total_bal_ex_mort                 39717\n",
              "total_bc_limit                    39717\n",
              "total_il_high_credit_limit        39717\n",
              "Length: 111, dtype: int64"
            ]
          },
          "metadata": {
            "tags": []
          },
          "execution_count": 6
        }
      ]
    },
    {
      "cell_type": "code",
      "metadata": {
        "id": "ulLnWxPbZ6la",
        "colab_type": "code",
        "outputId": "dcdb24da-55a1-4e49-bd46-348c07080c8b",
        "colab": {
          "base_uri": "https://localhost:8080/",
          "height": 1000
        }
      },
      "source": [
        "# percentage of missing values in each column\n",
        "round(loan.isnull().sum()/len(loan.index), 2)*100"
      ],
      "execution_count": 7,
      "outputs": [
        {
          "output_type": "execute_result",
          "data": {
            "text/plain": [
              "id                                  0.0\n",
              "member_id                           0.0\n",
              "loan_amnt                           0.0\n",
              "funded_amnt                         0.0\n",
              "funded_amnt_inv                     0.0\n",
              "term                                0.0\n",
              "int_rate                            0.0\n",
              "installment                         0.0\n",
              "grade                               0.0\n",
              "sub_grade                           0.0\n",
              "emp_title                           6.0\n",
              "emp_length                          3.0\n",
              "home_ownership                      0.0\n",
              "annual_inc                          0.0\n",
              "verification_status                 0.0\n",
              "issue_d                             0.0\n",
              "loan_status                         0.0\n",
              "pymnt_plan                          0.0\n",
              "url                                 0.0\n",
              "desc                               33.0\n",
              "purpose                             0.0\n",
              "title                               0.0\n",
              "zip_code                            0.0\n",
              "addr_state                          0.0\n",
              "dti                                 0.0\n",
              "delinq_2yrs                         0.0\n",
              "earliest_cr_line                    0.0\n",
              "inq_last_6mths                      0.0\n",
              "mths_since_last_delinq             65.0\n",
              "mths_since_last_record             93.0\n",
              "                                  ...  \n",
              "mo_sin_old_rev_tl_op              100.0\n",
              "mo_sin_rcnt_rev_tl_op             100.0\n",
              "mo_sin_rcnt_tl                    100.0\n",
              "mort_acc                          100.0\n",
              "mths_since_recent_bc              100.0\n",
              "mths_since_recent_bc_dlq          100.0\n",
              "mths_since_recent_inq             100.0\n",
              "mths_since_recent_revol_delinq    100.0\n",
              "num_accts_ever_120_pd             100.0\n",
              "num_actv_bc_tl                    100.0\n",
              "num_actv_rev_tl                   100.0\n",
              "num_bc_sats                       100.0\n",
              "num_bc_tl                         100.0\n",
              "num_il_tl                         100.0\n",
              "num_op_rev_tl                     100.0\n",
              "num_rev_accts                     100.0\n",
              "num_rev_tl_bal_gt_0               100.0\n",
              "num_sats                          100.0\n",
              "num_tl_120dpd_2m                  100.0\n",
              "num_tl_30dpd                      100.0\n",
              "num_tl_90g_dpd_24m                100.0\n",
              "num_tl_op_past_12m                100.0\n",
              "pct_tl_nvr_dlq                    100.0\n",
              "percent_bc_gt_75                  100.0\n",
              "pub_rec_bankruptcies                2.0\n",
              "tax_liens                           0.0\n",
              "tot_hi_cred_lim                   100.0\n",
              "total_bal_ex_mort                 100.0\n",
              "total_bc_limit                    100.0\n",
              "total_il_high_credit_limit        100.0\n",
              "Length: 111, dtype: float64"
            ]
          },
          "metadata": {
            "tags": []
          },
          "execution_count": 7
        }
      ]
    },
    {
      "cell_type": "markdown",
      "metadata": {
        "id": "8a5mxflfZ6le",
        "colab_type": "text"
      },
      "source": [
        "You can see that many columns have 100% missing values, some have 65%, 33% etc. First, let's get rid of the columns having 100% missing values."
      ]
    },
    {
      "cell_type": "code",
      "metadata": {
        "id": "o2F8VvNRZ6lf",
        "colab_type": "code",
        "outputId": "4507e2b1-48b9-4b93-8b48-351ef312650b",
        "colab": {
          "base_uri": "https://localhost:8080/",
          "height": 323
        }
      },
      "source": [
        "# removing the columns having more than 90% missing values\n",
        "missing_columns = loan.columns[100*(loan.isnull().sum()/len(loan.index)) > 90]\n",
        "print(missing_columns)"
      ],
      "execution_count": 8,
      "outputs": [
        {
          "output_type": "stream",
          "text": [
            "Index(['mths_since_last_record', 'next_pymnt_d', 'mths_since_last_major_derog',\n",
            "       'annual_inc_joint', 'dti_joint', 'verification_status_joint',\n",
            "       'tot_coll_amt', 'tot_cur_bal', 'open_acc_6m', 'open_il_6m',\n",
            "       'open_il_12m', 'open_il_24m', 'mths_since_rcnt_il', 'total_bal_il',\n",
            "       'il_util', 'open_rv_12m', 'open_rv_24m', 'max_bal_bc', 'all_util',\n",
            "       'total_rev_hi_lim', 'inq_fi', 'total_cu_tl', 'inq_last_12m',\n",
            "       'acc_open_past_24mths', 'avg_cur_bal', 'bc_open_to_buy', 'bc_util',\n",
            "       'mo_sin_old_il_acct', 'mo_sin_old_rev_tl_op', 'mo_sin_rcnt_rev_tl_op',\n",
            "       'mo_sin_rcnt_tl', 'mort_acc', 'mths_since_recent_bc',\n",
            "       'mths_since_recent_bc_dlq', 'mths_since_recent_inq',\n",
            "       'mths_since_recent_revol_delinq', 'num_accts_ever_120_pd',\n",
            "       'num_actv_bc_tl', 'num_actv_rev_tl', 'num_bc_sats', 'num_bc_tl',\n",
            "       'num_il_tl', 'num_op_rev_tl', 'num_rev_accts', 'num_rev_tl_bal_gt_0',\n",
            "       'num_sats', 'num_tl_120dpd_2m', 'num_tl_30dpd', 'num_tl_90g_dpd_24m',\n",
            "       'num_tl_op_past_12m', 'pct_tl_nvr_dlq', 'percent_bc_gt_75',\n",
            "       'tot_hi_cred_lim', 'total_bal_ex_mort', 'total_bc_limit',\n",
            "       'total_il_high_credit_limit'],\n",
            "      dtype='object')\n"
          ],
          "name": "stdout"
        }
      ]
    },
    {
      "cell_type": "code",
      "metadata": {
        "id": "PkvXHJetZ6lj",
        "colab_type": "code",
        "outputId": "2064fab7-27ce-4a13-934d-35da1a9f761e",
        "colab": {
          "base_uri": "https://localhost:8080/",
          "height": 34
        }
      },
      "source": [
        "loan = loan.drop(missing_columns, axis=1)\n",
        "print(loan.shape)\n",
        "\n"
      ],
      "execution_count": 9,
      "outputs": [
        {
          "output_type": "stream",
          "text": [
            "(39717, 55)\n"
          ],
          "name": "stdout"
        }
      ]
    },
    {
      "cell_type": "code",
      "metadata": {
        "id": "-UwgFIg8Z6ln",
        "colab_type": "code",
        "outputId": "963169c9-9f15-4de3-da7e-769ec3cbe687",
        "colab": {
          "base_uri": "https://localhost:8080/",
          "height": 969
        }
      },
      "source": [
        "# summarise number of missing values again\n",
        "100*(loan.isnull().sum()/len(loan.index))"
      ],
      "execution_count": 10,
      "outputs": [
        {
          "output_type": "execute_result",
          "data": {
            "text/plain": [
              "id                             0.000000\n",
              "member_id                      0.000000\n",
              "loan_amnt                      0.000000\n",
              "funded_amnt                    0.000000\n",
              "funded_amnt_inv                0.000000\n",
              "term                           0.000000\n",
              "int_rate                       0.000000\n",
              "installment                    0.000000\n",
              "grade                          0.000000\n",
              "sub_grade                      0.000000\n",
              "emp_title                      6.191303\n",
              "emp_length                     2.706650\n",
              "home_ownership                 0.000000\n",
              "annual_inc                     0.000000\n",
              "verification_status            0.000000\n",
              "issue_d                        0.000000\n",
              "loan_status                    0.000000\n",
              "pymnt_plan                     0.000000\n",
              "url                            0.000000\n",
              "desc                          32.580507\n",
              "purpose                        0.000000\n",
              "title                          0.027696\n",
              "zip_code                       0.000000\n",
              "addr_state                     0.000000\n",
              "dti                            0.000000\n",
              "delinq_2yrs                    0.000000\n",
              "earliest_cr_line               0.000000\n",
              "inq_last_6mths                 0.000000\n",
              "mths_since_last_delinq        64.662487\n",
              "open_acc                       0.000000\n",
              "pub_rec                        0.000000\n",
              "revol_bal                      0.000000\n",
              "revol_util                     0.125891\n",
              "total_acc                      0.000000\n",
              "initial_list_status            0.000000\n",
              "out_prncp                      0.000000\n",
              "out_prncp_inv                  0.000000\n",
              "total_pymnt                    0.000000\n",
              "total_pymnt_inv                0.000000\n",
              "total_rec_prncp                0.000000\n",
              "total_rec_int                  0.000000\n",
              "total_rec_late_fee             0.000000\n",
              "recoveries                     0.000000\n",
              "collection_recovery_fee        0.000000\n",
              "last_pymnt_d                   0.178765\n",
              "last_pymnt_amnt                0.000000\n",
              "last_credit_pull_d             0.005036\n",
              "collections_12_mths_ex_med     0.140998\n",
              "policy_code                    0.000000\n",
              "application_type               0.000000\n",
              "acc_now_delinq                 0.000000\n",
              "chargeoff_within_12_mths       0.140998\n",
              "delinq_amnt                    0.000000\n",
              "pub_rec_bankruptcies           1.754916\n",
              "tax_liens                      0.098195\n",
              "dtype: float64"
            ]
          },
          "metadata": {
            "tags": []
          },
          "execution_count": 10
        }
      ]
    },
    {
      "cell_type": "code",
      "metadata": {
        "id": "Uu4ei_MbZ6lr",
        "colab_type": "code",
        "outputId": "4735df44-3b4e-4920-fd8f-0a7bbf1c8656",
        "colab": {
          "base_uri": "https://localhost:8080/",
          "height": 204
        }
      },
      "source": [
        "# There are now 2 columns having approx 32 and 64% missing values - \n",
        "# description and months since last delinquent\n",
        "\n",
        "# let's have a look at a few entries in the columns\n",
        "loan.loc[:, ['desc', 'mths_since_last_delinq']].head()"
      ],
      "execution_count": 11,
      "outputs": [
        {
          "output_type": "execute_result",
          "data": {
            "text/html": [
              "<div>\n",
              "<style scoped>\n",
              "    .dataframe tbody tr th:only-of-type {\n",
              "        vertical-align: middle;\n",
              "    }\n",
              "\n",
              "    .dataframe tbody tr th {\n",
              "        vertical-align: top;\n",
              "    }\n",
              "\n",
              "    .dataframe thead th {\n",
              "        text-align: right;\n",
              "    }\n",
              "</style>\n",
              "<table border=\"1\" class=\"dataframe\">\n",
              "  <thead>\n",
              "    <tr style=\"text-align: right;\">\n",
              "      <th></th>\n",
              "      <th>desc</th>\n",
              "      <th>mths_since_last_delinq</th>\n",
              "    </tr>\n",
              "  </thead>\n",
              "  <tbody>\n",
              "    <tr>\n",
              "      <th>0</th>\n",
              "      <td>Borrower added on 12/22/11 &gt; I need to upgra...</td>\n",
              "      <td>NaN</td>\n",
              "    </tr>\n",
              "    <tr>\n",
              "      <th>1</th>\n",
              "      <td>Borrower added on 12/22/11 &gt; I plan to use t...</td>\n",
              "      <td>NaN</td>\n",
              "    </tr>\n",
              "    <tr>\n",
              "      <th>2</th>\n",
              "      <td>NaN</td>\n",
              "      <td>NaN</td>\n",
              "    </tr>\n",
              "    <tr>\n",
              "      <th>3</th>\n",
              "      <td>Borrower added on 12/21/11 &gt; to pay for prop...</td>\n",
              "      <td>35.0</td>\n",
              "    </tr>\n",
              "    <tr>\n",
              "      <th>4</th>\n",
              "      <td>Borrower added on 12/21/11 &gt; I plan on combi...</td>\n",
              "      <td>38.0</td>\n",
              "    </tr>\n",
              "  </tbody>\n",
              "</table>\n",
              "</div>"
            ],
            "text/plain": [
              "                                                desc  mths_since_last_delinq\n",
              "0    Borrower added on 12/22/11 > I need to upgra...                     NaN\n",
              "1    Borrower added on 12/22/11 > I plan to use t...                     NaN\n",
              "2                                                NaN                     NaN\n",
              "3    Borrower added on 12/21/11 > to pay for prop...                    35.0\n",
              "4    Borrower added on 12/21/11 > I plan on combi...                    38.0"
            ]
          },
          "metadata": {
            "tags": []
          },
          "execution_count": 11
        }
      ]
    },
    {
      "cell_type": "markdown",
      "metadata": {
        "id": "dj2shJkRZ6l1",
        "colab_type": "text"
      },
      "source": [
        "The column description contains the comments the applicant had written while applying for the loan. Although one can use some text analysis techniques to derive new features from this column (such as sentiment, number of positive/negative words etc.), we will not use this column in this analysis. \n",
        "\n",
        "Secondly, months since last delinquent represents the number months passed since the person last fell into the 90 DPD group. There is an important reason we shouldn't use this column in analysis - since at the time of loan application, we will not have this data (it gets generated months after the loan has been approved), it cannot be used as a predictor of default at the time of loan approval. \n",
        "\n",
        "Thus let's drop the two columns."
      ]
    },
    {
      "cell_type": "code",
      "metadata": {
        "id": "5wsg0K5tZ6l3",
        "colab_type": "code",
        "colab": {}
      },
      "source": [
        "# dropping the two columns\n",
        "loan = loan.drop(['desc', 'mths_since_last_delinq'], axis=1)"
      ],
      "execution_count": 0,
      "outputs": []
    },
    {
      "cell_type": "code",
      "metadata": {
        "id": "16m0j7dWZ6l6",
        "colab_type": "code",
        "outputId": "e6710397-d6ae-4f7f-9673-749128a9b6f0",
        "colab": {
          "base_uri": "https://localhost:8080/",
          "height": 935
        }
      },
      "source": [
        "# summarise number of missing values again\n",
        "100*(loan.isnull().sum()/len(loan.index))"
      ],
      "execution_count": 13,
      "outputs": [
        {
          "output_type": "execute_result",
          "data": {
            "text/plain": [
              "id                            0.000000\n",
              "member_id                     0.000000\n",
              "loan_amnt                     0.000000\n",
              "funded_amnt                   0.000000\n",
              "funded_amnt_inv               0.000000\n",
              "term                          0.000000\n",
              "int_rate                      0.000000\n",
              "installment                   0.000000\n",
              "grade                         0.000000\n",
              "sub_grade                     0.000000\n",
              "emp_title                     6.191303\n",
              "emp_length                    2.706650\n",
              "home_ownership                0.000000\n",
              "annual_inc                    0.000000\n",
              "verification_status           0.000000\n",
              "issue_d                       0.000000\n",
              "loan_status                   0.000000\n",
              "pymnt_plan                    0.000000\n",
              "url                           0.000000\n",
              "purpose                       0.000000\n",
              "title                         0.027696\n",
              "zip_code                      0.000000\n",
              "addr_state                    0.000000\n",
              "dti                           0.000000\n",
              "delinq_2yrs                   0.000000\n",
              "earliest_cr_line              0.000000\n",
              "inq_last_6mths                0.000000\n",
              "open_acc                      0.000000\n",
              "pub_rec                       0.000000\n",
              "revol_bal                     0.000000\n",
              "revol_util                    0.125891\n",
              "total_acc                     0.000000\n",
              "initial_list_status           0.000000\n",
              "out_prncp                     0.000000\n",
              "out_prncp_inv                 0.000000\n",
              "total_pymnt                   0.000000\n",
              "total_pymnt_inv               0.000000\n",
              "total_rec_prncp               0.000000\n",
              "total_rec_int                 0.000000\n",
              "total_rec_late_fee            0.000000\n",
              "recoveries                    0.000000\n",
              "collection_recovery_fee       0.000000\n",
              "last_pymnt_d                  0.178765\n",
              "last_pymnt_amnt               0.000000\n",
              "last_credit_pull_d            0.005036\n",
              "collections_12_mths_ex_med    0.140998\n",
              "policy_code                   0.000000\n",
              "application_type              0.000000\n",
              "acc_now_delinq                0.000000\n",
              "chargeoff_within_12_mths      0.140998\n",
              "delinq_amnt                   0.000000\n",
              "pub_rec_bankruptcies          1.754916\n",
              "tax_liens                     0.098195\n",
              "dtype: float64"
            ]
          },
          "metadata": {
            "tags": []
          },
          "execution_count": 13
        }
      ]
    },
    {
      "cell_type": "markdown",
      "metadata": {
        "id": "6BYVrsx_Z6l-",
        "colab_type": "text"
      },
      "source": [
        "There are some more columns with missing values, but let's ignore them for now (since we are ntot doing any modeling, we don't need to impute all missing values anyway). \n",
        "\n",
        "But let's check whether some rows have a large number of missing values."
      ]
    },
    {
      "cell_type": "code",
      "metadata": {
        "id": "8apBrd6-Z6l_",
        "colab_type": "code",
        "outputId": "fa7ae7d1-f014-4466-cc68-6096c90d4593",
        "colab": {
          "base_uri": "https://localhost:8080/",
          "height": 1000
        }
      },
      "source": [
        "# missing values in rows\n",
        "loan.isnull().sum(axis=1)"
      ],
      "execution_count": 14,
      "outputs": [
        {
          "output_type": "execute_result",
          "data": {
            "text/plain": [
              "0        1\n",
              "1        0\n",
              "2        1\n",
              "3        0\n",
              "4        0\n",
              "5        0\n",
              "6        0\n",
              "7        0\n",
              "8        1\n",
              "9        0\n",
              "10       0\n",
              "11       0\n",
              "12       0\n",
              "13       0\n",
              "14       0\n",
              "15       0\n",
              "16       0\n",
              "17       0\n",
              "18       0\n",
              "19       0\n",
              "20       0\n",
              "21       0\n",
              "22       0\n",
              "23       0\n",
              "24       0\n",
              "25       0\n",
              "26       1\n",
              "27       0\n",
              "28       0\n",
              "29       0\n",
              "        ..\n",
              "39687    4\n",
              "39688    4\n",
              "39689    4\n",
              "39690    4\n",
              "39691    4\n",
              "39692    4\n",
              "39693    4\n",
              "39694    4\n",
              "39695    4\n",
              "39696    4\n",
              "39697    4\n",
              "39698    4\n",
              "39699    4\n",
              "39700    5\n",
              "39701    4\n",
              "39702    4\n",
              "39703    4\n",
              "39704    5\n",
              "39705    4\n",
              "39706    5\n",
              "39707    4\n",
              "39708    4\n",
              "39709    4\n",
              "39710    4\n",
              "39711    4\n",
              "39712    4\n",
              "39713    4\n",
              "39714    5\n",
              "39715    5\n",
              "39716    4\n",
              "Length: 39717, dtype: int64"
            ]
          },
          "metadata": {
            "tags": []
          },
          "execution_count": 14
        }
      ]
    },
    {
      "cell_type": "code",
      "metadata": {
        "id": "UhNs_ZynZ6mC",
        "colab_type": "code",
        "outputId": "41e061b2-9128-4c16-c981-6301af93becf",
        "colab": {
          "base_uri": "https://localhost:8080/",
          "height": 34
        }
      },
      "source": [
        "# checking whether some rows have more than 5 missing values\n",
        "len(loan[loan.isnull().sum(axis=1) > 5].index)"
      ],
      "execution_count": 15,
      "outputs": [
        {
          "output_type": "execute_result",
          "data": {
            "text/plain": [
              "0"
            ]
          },
          "metadata": {
            "tags": []
          },
          "execution_count": 15
        }
      ]
    },
    {
      "cell_type": "markdown",
      "metadata": {
        "id": "p6HqLk78Z6mG",
        "colab_type": "text"
      },
      "source": [
        "The data looks clean by and large. Let's also check whether all columns are in the correct format."
      ]
    },
    {
      "cell_type": "code",
      "metadata": {
        "id": "K458MdTlZ6mH",
        "colab_type": "code",
        "outputId": "256dc13e-7581-47a4-d42c-95c0d1ba65ec",
        "colab": {
          "base_uri": "https://localhost:8080/",
          "height": 1000
        }
      },
      "source": [
        "loan.info()"
      ],
      "execution_count": 16,
      "outputs": [
        {
          "output_type": "stream",
          "text": [
            "<class 'pandas.core.frame.DataFrame'>\n",
            "RangeIndex: 39717 entries, 0 to 39716\n",
            "Data columns (total 53 columns):\n",
            "id                            39717 non-null int64\n",
            "member_id                     39717 non-null int64\n",
            "loan_amnt                     39717 non-null int64\n",
            "funded_amnt                   39717 non-null int64\n",
            "funded_amnt_inv               39717 non-null float64\n",
            "term                          39717 non-null object\n",
            "int_rate                      39717 non-null object\n",
            "installment                   39717 non-null float64\n",
            "grade                         39717 non-null object\n",
            "sub_grade                     39717 non-null object\n",
            "emp_title                     37258 non-null object\n",
            "emp_length                    38642 non-null object\n",
            "home_ownership                39717 non-null object\n",
            "annual_inc                    39717 non-null float64\n",
            "verification_status           39717 non-null object\n",
            "issue_d                       39717 non-null object\n",
            "loan_status                   39717 non-null object\n",
            "pymnt_plan                    39717 non-null object\n",
            "url                           39717 non-null object\n",
            "purpose                       39717 non-null object\n",
            "title                         39706 non-null object\n",
            "zip_code                      39717 non-null object\n",
            "addr_state                    39717 non-null object\n",
            "dti                           39717 non-null float64\n",
            "delinq_2yrs                   39717 non-null int64\n",
            "earliest_cr_line              39717 non-null object\n",
            "inq_last_6mths                39717 non-null int64\n",
            "open_acc                      39717 non-null int64\n",
            "pub_rec                       39717 non-null int64\n",
            "revol_bal                     39717 non-null int64\n",
            "revol_util                    39667 non-null object\n",
            "total_acc                     39717 non-null int64\n",
            "initial_list_status           39717 non-null object\n",
            "out_prncp                     39717 non-null float64\n",
            "out_prncp_inv                 39717 non-null float64\n",
            "total_pymnt                   39717 non-null float64\n",
            "total_pymnt_inv               39717 non-null float64\n",
            "total_rec_prncp               39717 non-null float64\n",
            "total_rec_int                 39717 non-null float64\n",
            "total_rec_late_fee            39717 non-null float64\n",
            "recoveries                    39717 non-null float64\n",
            "collection_recovery_fee       39717 non-null float64\n",
            "last_pymnt_d                  39646 non-null object\n",
            "last_pymnt_amnt               39717 non-null float64\n",
            "last_credit_pull_d            39715 non-null object\n",
            "collections_12_mths_ex_med    39661 non-null float64\n",
            "policy_code                   39717 non-null int64\n",
            "application_type              39717 non-null object\n",
            "acc_now_delinq                39717 non-null int64\n",
            "chargeoff_within_12_mths      39661 non-null float64\n",
            "delinq_amnt                   39717 non-null int64\n",
            "pub_rec_bankruptcies          39020 non-null float64\n",
            "tax_liens                     39678 non-null float64\n",
            "dtypes: float64(18), int64(13), object(22)\n",
            "memory usage: 16.1+ MB\n"
          ],
          "name": "stdout"
        }
      ]
    },
    {
      "cell_type": "code",
      "metadata": {
        "id": "Aim0UDduZ6mK",
        "colab_type": "code",
        "colab": {}
      },
      "source": [
        "# The column int_rate is character type, let's convert it to float\n",
        "loan['int_rate'] = loan['int_rate'].apply(lambda x: pd.to_numeric(x.split(\"%\")[0]))"
      ],
      "execution_count": 0,
      "outputs": []
    },
    {
      "cell_type": "code",
      "metadata": {
        "id": "70nOcfbkZ6mO",
        "colab_type": "code",
        "outputId": "f78a81ca-52ae-4487-804b-380d8b079d00",
        "colab": {
          "base_uri": "https://localhost:8080/",
          "height": 1000
        }
      },
      "source": [
        "# checking the data types\n",
        "loan.info()"
      ],
      "execution_count": 18,
      "outputs": [
        {
          "output_type": "stream",
          "text": [
            "<class 'pandas.core.frame.DataFrame'>\n",
            "RangeIndex: 39717 entries, 0 to 39716\n",
            "Data columns (total 53 columns):\n",
            "id                            39717 non-null int64\n",
            "member_id                     39717 non-null int64\n",
            "loan_amnt                     39717 non-null int64\n",
            "funded_amnt                   39717 non-null int64\n",
            "funded_amnt_inv               39717 non-null float64\n",
            "term                          39717 non-null object\n",
            "int_rate                      39717 non-null float64\n",
            "installment                   39717 non-null float64\n",
            "grade                         39717 non-null object\n",
            "sub_grade                     39717 non-null object\n",
            "emp_title                     37258 non-null object\n",
            "emp_length                    38642 non-null object\n",
            "home_ownership                39717 non-null object\n",
            "annual_inc                    39717 non-null float64\n",
            "verification_status           39717 non-null object\n",
            "issue_d                       39717 non-null object\n",
            "loan_status                   39717 non-null object\n",
            "pymnt_plan                    39717 non-null object\n",
            "url                           39717 non-null object\n",
            "purpose                       39717 non-null object\n",
            "title                         39706 non-null object\n",
            "zip_code                      39717 non-null object\n",
            "addr_state                    39717 non-null object\n",
            "dti                           39717 non-null float64\n",
            "delinq_2yrs                   39717 non-null int64\n",
            "earliest_cr_line              39717 non-null object\n",
            "inq_last_6mths                39717 non-null int64\n",
            "open_acc                      39717 non-null int64\n",
            "pub_rec                       39717 non-null int64\n",
            "revol_bal                     39717 non-null int64\n",
            "revol_util                    39667 non-null object\n",
            "total_acc                     39717 non-null int64\n",
            "initial_list_status           39717 non-null object\n",
            "out_prncp                     39717 non-null float64\n",
            "out_prncp_inv                 39717 non-null float64\n",
            "total_pymnt                   39717 non-null float64\n",
            "total_pymnt_inv               39717 non-null float64\n",
            "total_rec_prncp               39717 non-null float64\n",
            "total_rec_int                 39717 non-null float64\n",
            "total_rec_late_fee            39717 non-null float64\n",
            "recoveries                    39717 non-null float64\n",
            "collection_recovery_fee       39717 non-null float64\n",
            "last_pymnt_d                  39646 non-null object\n",
            "last_pymnt_amnt               39717 non-null float64\n",
            "last_credit_pull_d            39715 non-null object\n",
            "collections_12_mths_ex_med    39661 non-null float64\n",
            "policy_code                   39717 non-null int64\n",
            "application_type              39717 non-null object\n",
            "acc_now_delinq                39717 non-null int64\n",
            "chargeoff_within_12_mths      39661 non-null float64\n",
            "delinq_amnt                   39717 non-null int64\n",
            "pub_rec_bankruptcies          39020 non-null float64\n",
            "tax_liens                     39678 non-null float64\n",
            "dtypes: float64(19), int64(13), object(21)\n",
            "memory usage: 16.1+ MB\n"
          ],
          "name": "stdout"
        }
      ]
    },
    {
      "cell_type": "code",
      "metadata": {
        "id": "7DsCHxMDZ6mR",
        "colab_type": "code",
        "colab": {}
      },
      "source": [
        "# also, lets extract the numeric part from the variable employment length\n",
        "\n",
        "# first, let's drop the missing values from the column (otherwise the regex code below throws error)\n",
        "loan = loan[~loan['emp_length'].isnull()]\n",
        "\n",
        "# using regular expression to extract numeric values from the string\n",
        "import re\n",
        "loan['emp_length'] = loan['emp_length'].apply(lambda x: re.findall('\\d+', str(x))[0])\n",
        "\n",
        "# convert to numeric\n",
        "loan['emp_length'] = loan['emp_length'].apply(lambda x: pd.to_numeric(x))"
      ],
      "execution_count": 0,
      "outputs": []
    },
    {
      "cell_type": "code",
      "metadata": {
        "id": "ZVnCpWVMZ6mV",
        "colab_type": "code",
        "outputId": "2af8964f-9c3d-475c-efed-24daf320843d",
        "colab": {
          "base_uri": "https://localhost:8080/",
          "height": 1000
        }
      },
      "source": [
        "# looking at type of the columns again\n",
        "loan.info()"
      ],
      "execution_count": 20,
      "outputs": [
        {
          "output_type": "stream",
          "text": [
            "<class 'pandas.core.frame.DataFrame'>\n",
            "Int64Index: 38642 entries, 0 to 39716\n",
            "Data columns (total 53 columns):\n",
            "id                            38642 non-null int64\n",
            "member_id                     38642 non-null int64\n",
            "loan_amnt                     38642 non-null int64\n",
            "funded_amnt                   38642 non-null int64\n",
            "funded_amnt_inv               38642 non-null float64\n",
            "term                          38642 non-null object\n",
            "int_rate                      38642 non-null float64\n",
            "installment                   38642 non-null float64\n",
            "grade                         38642 non-null object\n",
            "sub_grade                     38642 non-null object\n",
            "emp_title                     37202 non-null object\n",
            "emp_length                    38642 non-null int64\n",
            "home_ownership                38642 non-null object\n",
            "annual_inc                    38642 non-null float64\n",
            "verification_status           38642 non-null object\n",
            "issue_d                       38642 non-null object\n",
            "loan_status                   38642 non-null object\n",
            "pymnt_plan                    38642 non-null object\n",
            "url                           38642 non-null object\n",
            "purpose                       38642 non-null object\n",
            "title                         38632 non-null object\n",
            "zip_code                      38642 non-null object\n",
            "addr_state                    38642 non-null object\n",
            "dti                           38642 non-null float64\n",
            "delinq_2yrs                   38642 non-null int64\n",
            "earliest_cr_line              38642 non-null object\n",
            "inq_last_6mths                38642 non-null int64\n",
            "open_acc                      38642 non-null int64\n",
            "pub_rec                       38642 non-null int64\n",
            "revol_bal                     38642 non-null int64\n",
            "revol_util                    38595 non-null object\n",
            "total_acc                     38642 non-null int64\n",
            "initial_list_status           38642 non-null object\n",
            "out_prncp                     38642 non-null float64\n",
            "out_prncp_inv                 38642 non-null float64\n",
            "total_pymnt                   38642 non-null float64\n",
            "total_pymnt_inv               38642 non-null float64\n",
            "total_rec_prncp               38642 non-null float64\n",
            "total_rec_int                 38642 non-null float64\n",
            "total_rec_late_fee            38642 non-null float64\n",
            "recoveries                    38642 non-null float64\n",
            "collection_recovery_fee       38642 non-null float64\n",
            "last_pymnt_d                  38576 non-null object\n",
            "last_pymnt_amnt               38642 non-null float64\n",
            "last_credit_pull_d            38640 non-null object\n",
            "collections_12_mths_ex_med    38586 non-null float64\n",
            "policy_code                   38642 non-null int64\n",
            "application_type              38642 non-null object\n",
            "acc_now_delinq                38642 non-null int64\n",
            "chargeoff_within_12_mths      38586 non-null float64\n",
            "delinq_amnt                   38642 non-null int64\n",
            "pub_rec_bankruptcies          37945 non-null float64\n",
            "tax_liens                     38603 non-null float64\n",
            "dtypes: float64(19), int64(14), object(20)\n",
            "memory usage: 15.9+ MB\n"
          ],
          "name": "stdout"
        }
      ]
    },
    {
      "cell_type": "markdown",
      "metadata": {
        "id": "fTRSpAyRZ6md",
        "colab_type": "text"
      },
      "source": [
        "## Data Analysis\n",
        "\n",
        "Let's now move to data analysis. To start with, let's understand the objective of the analysis clearly and identify the variables that we want to consider for analysis. \n",
        "\n",
        "The objective is to identify predictors of default so that at the time of loan application, we can use those variables for approval/rejection of the loan. Now, there are broadly three types of variables - 1. those which are related to the applicant (demographic variables such as age, occupation, employment details etc.), 2. loan characteristics (amount of loan, interest rate, purpose of loan etc.) and 3. Customer behaviour variables (those which are generated after the loan is approved such as delinquent 2 years, revolving balance, next payment date etc.).\n",
        "\n",
        "Now, the customer behaviour variables are not available at the time of loan application, and thus they cannot be used as predictors for credit approval. \n",
        "\n",
        "Thus, going forward, we will use only the other two types of variables.\n",
        "\n"
      ]
    },
    {
      "cell_type": "code",
      "metadata": {
        "id": "Q6lCfs39Z6mf",
        "colab_type": "code",
        "colab": {}
      },
      "source": [
        "behaviour_var =  [\n",
        "  \"delinq_2yrs\",\n",
        "  \"earliest_cr_line\",\n",
        "  \"inq_last_6mths\",\n",
        "  \"open_acc\",\n",
        "  \"pub_rec\",\n",
        "  \"revol_bal\",\n",
        "  \"revol_util\",\n",
        "  \"total_acc\",\n",
        "  \"out_prncp\",\n",
        "  \"out_prncp_inv\",\n",
        "  \"total_pymnt\",\n",
        "  \"total_pymnt_inv\",\n",
        "  \"total_rec_prncp\",\n",
        "  \"total_rec_int\",\n",
        "  \"total_rec_late_fee\",\n",
        "  \"recoveries\",\n",
        "  \"collection_recovery_fee\",\n",
        "  \"last_pymnt_d\",\n",
        "  \"last_pymnt_amnt\",\n",
        "  \"last_credit_pull_d\",\n",
        "  \"application_type\"]\n",
        "behaviour_var"
      ],
      "execution_count": 0,
      "outputs": []
    },
    {
      "cell_type": "code",
      "metadata": {
        "id": "sMS1DVgdZ6mm",
        "colab_type": "code",
        "colab": {}
      },
      "source": [
        "# let's now remove the behaviour variables from analysis\n",
        "df = loan.drop(behaviour_var, axis=1)\n",
        "df.info()"
      ],
      "execution_count": 0,
      "outputs": []
    },
    {
      "cell_type": "markdown",
      "metadata": {
        "id": "0x_o5RnYZ6mq",
        "colab_type": "text"
      },
      "source": [
        "Typically, variables such as acc_now_delinquent, chargeoff within 12 months etc. (which are related to the applicant's past loans) are available from the credit bureau. "
      ]
    },
    {
      "cell_type": "code",
      "metadata": {
        "id": "szRqITRjZ6mr",
        "colab_type": "code",
        "colab": {}
      },
      "source": [
        "# also, we will not be able to use the variables zip code, address, state etc.\n",
        "# the variable 'title' is derived from the variable 'purpose'\n",
        "# thus let get rid of all these variables as well\n",
        "\n",
        "df = df.drop(['title', 'url', 'zip_code', 'addr_state'], axis=1)"
      ],
      "execution_count": 0,
      "outputs": []
    },
    {
      "cell_type": "markdown",
      "metadata": {
        "id": "lA1Ys6D_Z6mu",
        "colab_type": "text"
      },
      "source": [
        "Next, let's have a look at the target variable - loan_status. We need to relabel the values to a binary form - 0 or 1, 1 indicating that the person has defaulted and 0 otherwise.\n",
        "\n"
      ]
    },
    {
      "cell_type": "code",
      "metadata": {
        "id": "BweDNcAvZ6mv",
        "colab_type": "code",
        "colab": {}
      },
      "source": [
        "df['loan_status'] = df['loan_status'].astype('category')\n",
        "df['loan_status'].value_counts()"
      ],
      "execution_count": 0,
      "outputs": []
    },
    {
      "cell_type": "markdown",
      "metadata": {
        "id": "3LVH5acSZ6m0",
        "colab_type": "text"
      },
      "source": [
        "You can see that fully paid comprises most of the loans. The ones marked 'current' are neither fully paid not defaulted, so let's get rid of the current loans. Also, let's tag the other two values as 0 or 1. "
      ]
    },
    {
      "cell_type": "code",
      "metadata": {
        "id": "QNMPcwizZ6m1",
        "colab_type": "code",
        "colab": {}
      },
      "source": [
        "# filtering only fully paid or charged-off\n",
        "df = df[df['loan_status'] != 'Current']\n",
        "df['loan_status'] = df['loan_status'].apply(lambda x: 0 if x=='Fully Paid' else 1)\n",
        "\n",
        "# converting loan_status to integer type\n",
        "df['loan_status'] = df['loan_status'].apply(lambda x: pd.to_numeric(x))\n",
        "\n",
        "# summarising the values\n",
        "df['loan_status'].value_counts()"
      ],
      "execution_count": 0,
      "outputs": []
    },
    {
      "cell_type": "markdown",
      "metadata": {
        "id": "Wk0SF9NzZ6m4",
        "colab_type": "text"
      },
      "source": [
        "Next, let's start with univariate analysis and then move to bivariate analysis.\n",
        "\n",
        "## Univariate Analysis\n",
        "\n",
        "First, let's look at the overall default rate.\n"
      ]
    },
    {
      "cell_type": "code",
      "metadata": {
        "id": "IO5EQK4jZ6m5",
        "colab_type": "code",
        "colab": {}
      },
      "source": [
        "# default rate\n",
        "round(np.mean(df['loan_status']), 2)"
      ],
      "execution_count": 0,
      "outputs": []
    },
    {
      "cell_type": "markdown",
      "metadata": {
        "id": "SNzBZJmuZ6m8",
        "colab_type": "text"
      },
      "source": [
        "The overall default rate is about 14%.  "
      ]
    },
    {
      "cell_type": "markdown",
      "metadata": {
        "id": "pbzDsSXfZ6m9",
        "colab_type": "text"
      },
      "source": [
        "Let's first visualise the average default rates across categorical variables.\n"
      ]
    },
    {
      "cell_type": "code",
      "metadata": {
        "id": "vveYCV-mZ6m-",
        "colab_type": "code",
        "colab": {}
      },
      "source": [
        "# plotting default rates across grade of the loan\n",
        "sns.barplot(x='grade', y='loan_status', data=df)\n",
        "plt.show()"
      ],
      "execution_count": 0,
      "outputs": []
    },
    {
      "cell_type": "code",
      "metadata": {
        "id": "uGKARMeiZ6nE",
        "colab_type": "code",
        "colab": {}
      },
      "source": [
        "# lets define a function to plot loan_status across categorical variables\n",
        "def plot_cat(cat_var):\n",
        "    sns.barplot(x=cat_var, y='loan_status', data=df)\n",
        "    plt.show()\n",
        "    "
      ],
      "execution_count": 0,
      "outputs": []
    },
    {
      "cell_type": "code",
      "metadata": {
        "id": "f2LmM9ndZ6nL",
        "colab_type": "code",
        "colab": {}
      },
      "source": [
        "# compare default rates across grade of loan\n",
        "plot_cat('grade')"
      ],
      "execution_count": 0,
      "outputs": []
    },
    {
      "cell_type": "markdown",
      "metadata": {
        "id": "F71GX4eqZ6nX",
        "colab_type": "text"
      },
      "source": [
        "Clearly, as the grade of loan goes from A to G, the default rate increases. This is expected because the grade is decided by Lending Club based on the riskiness of the loan. "
      ]
    },
    {
      "cell_type": "code",
      "metadata": {
        "id": "Rdo_GwD5Z6nY",
        "colab_type": "code",
        "colab": {}
      },
      "source": [
        "# term: 60 months loans default more than 36 months loans\n",
        "plot_cat('term')"
      ],
      "execution_count": 0,
      "outputs": []
    },
    {
      "cell_type": "code",
      "metadata": {
        "id": "OcvX3AMuZ6ne",
        "colab_type": "code",
        "colab": {}
      },
      "source": [
        "# sub-grade: as expected - A1 is better than A2 better than A3 and so on \n",
        "plt.figure(figsize=(16, 6))\n",
        "plot_cat('sub_grade')"
      ],
      "execution_count": 0,
      "outputs": []
    },
    {
      "cell_type": "code",
      "metadata": {
        "id": "DysrbzPUZ6nk",
        "colab_type": "code",
        "colab": {}
      },
      "source": [
        "# home ownership: not a great discriminator\n",
        "plot_cat('home_ownership')"
      ],
      "execution_count": 0,
      "outputs": []
    },
    {
      "cell_type": "code",
      "metadata": {
        "id": "wqSagqtCZ6nq",
        "colab_type": "code",
        "colab": {}
      },
      "source": [
        "# verification_status: surprisingly, verified loans default more than not verifiedb\n",
        "plot_cat('verification_status')"
      ],
      "execution_count": 0,
      "outputs": []
    },
    {
      "cell_type": "code",
      "metadata": {
        "id": "i5Jn4EDXZ6nv",
        "colab_type": "code",
        "colab": {}
      },
      "source": [
        "# purpose: small business loans defualt the most, then renewable energy and education\n",
        "plt.figure(figsize=(16, 6))\n",
        "plot_cat('purpose')"
      ],
      "execution_count": 0,
      "outputs": []
    },
    {
      "cell_type": "code",
      "metadata": {
        "id": "bkFerPLnZ6ny",
        "colab_type": "code",
        "colab": {}
      },
      "source": [
        "# let's also observe the distribution of loans across years\n",
        "# first lets convert the year column into datetime and then extract year and month from it\n",
        "df['issue_d'].head()"
      ],
      "execution_count": 0,
      "outputs": []
    },
    {
      "cell_type": "code",
      "metadata": {
        "id": "Sv07CLfGZ6n3",
        "colab_type": "code",
        "colab": {}
      },
      "source": [
        "from datetime import datetime\n",
        "df['issue_d'] = df['issue_d'].apply(lambda x: datetime.strptime(x, '%b-%y'))\n"
      ],
      "execution_count": 0,
      "outputs": []
    },
    {
      "cell_type": "code",
      "metadata": {
        "id": "KgspXVDeZ6n6",
        "colab_type": "code",
        "colab": {}
      },
      "source": [
        "# extracting month and year from issue_date\n",
        "df['month'] = df['issue_d'].apply(lambda x: x.month)\n",
        "df['year'] = df['issue_d'].apply(lambda x: x.year)\n",
        "\n",
        "\n"
      ],
      "execution_count": 0,
      "outputs": []
    },
    {
      "cell_type": "code",
      "metadata": {
        "id": "Bc21xgE7Z6oA",
        "colab_type": "code",
        "colab": {}
      },
      "source": [
        "# let's first observe the number of loans granted across years\n",
        "df.groupby('year').year.count()"
      ],
      "execution_count": 0,
      "outputs": []
    },
    {
      "cell_type": "markdown",
      "metadata": {
        "id": "ExeBnh99Z6oH",
        "colab_type": "text"
      },
      "source": [
        "You can see that the number of loans has increased steadily across years. "
      ]
    },
    {
      "cell_type": "code",
      "metadata": {
        "id": "o_ZWgHmjZ6oJ",
        "colab_type": "code",
        "colab": {}
      },
      "source": [
        "# number of loans across months\n",
        "df.groupby('month').month.count()"
      ],
      "execution_count": 0,
      "outputs": []
    },
    {
      "cell_type": "markdown",
      "metadata": {
        "id": "s-wq5TpQZ6oN",
        "colab_type": "text"
      },
      "source": [
        "Most loans are granted in December, and in general in the latter half of the year."
      ]
    },
    {
      "cell_type": "code",
      "metadata": {
        "id": "SIC74ooBZ6oO",
        "colab_type": "code",
        "colab": {}
      },
      "source": [
        "# lets compare the default rates across years\n",
        "# the default rate had suddenly increased in 2011, inspite of reducing from 2008 till 2010\n",
        "plot_cat('year')"
      ],
      "execution_count": 0,
      "outputs": []
    },
    {
      "cell_type": "code",
      "metadata": {
        "id": "0pgl8wssZ6oR",
        "colab_type": "code",
        "colab": {}
      },
      "source": [
        "# comparing default rates across months: not much variation across months\n",
        "plt.figure(figsize=(16, 6))\n",
        "plot_cat('month')"
      ],
      "execution_count": 0,
      "outputs": []
    },
    {
      "cell_type": "markdown",
      "metadata": {
        "id": "ClfX5IAfZ6oU",
        "colab_type": "text"
      },
      "source": [
        "Let's now analyse how the default rate varies across continuous variables."
      ]
    },
    {
      "cell_type": "code",
      "metadata": {
        "id": "vTQWyzfUZ6oV",
        "colab_type": "code",
        "colab": {}
      },
      "source": [
        "# loan amount: the median loan amount is around 10,000\n",
        "sns.distplot(df['loan_amnt'])\n",
        "plt.show()"
      ],
      "execution_count": 0,
      "outputs": []
    },
    {
      "cell_type": "markdown",
      "metadata": {
        "id": "O-6lrXjMZ6oY",
        "colab_type": "text"
      },
      "source": [
        "The easiest way to analyse how default rates vary across continous variables is to bin the variables into discrete categories.\n",
        "\n",
        "Let's bin the loan amount variable into small, medium, high, very high."
      ]
    },
    {
      "cell_type": "code",
      "metadata": {
        "id": "FQfjrUxfZ6oZ",
        "colab_type": "code",
        "colab": {}
      },
      "source": [
        "# binning loan amount\n",
        "def loan_amount(n):\n",
        "    if n < 5000:\n",
        "        return 'low'\n",
        "    elif n >=5000 and n < 15000:\n",
        "        return 'medium'\n",
        "    elif n >= 15000 and n < 25000:\n",
        "        return 'high'\n",
        "    else:\n",
        "        return 'very high'\n",
        "        \n",
        "df['loan_amnt'] = df['loan_amnt'].apply(lambda x: loan_amount(x))\n"
      ],
      "execution_count": 0,
      "outputs": []
    },
    {
      "cell_type": "code",
      "metadata": {
        "id": "bJOYQfncZ6oc",
        "colab_type": "code",
        "colab": {}
      },
      "source": [
        "df['loan_amnt'].value_counts()"
      ],
      "execution_count": 0,
      "outputs": []
    },
    {
      "cell_type": "code",
      "metadata": {
        "id": "bmiYi168Z6ol",
        "colab_type": "code",
        "colab": {}
      },
      "source": [
        "# let's compare the default rates across loan amount type\n",
        "# higher the loan amount, higher the default rate\n",
        "plot_cat('loan_amnt')"
      ],
      "execution_count": 0,
      "outputs": []
    },
    {
      "cell_type": "code",
      "metadata": {
        "id": "2lMEBaVMZ6ow",
        "colab_type": "code",
        "colab": {}
      },
      "source": [
        "# let's also convert funded amount invested to bins\n",
        "df['funded_amnt_inv'] = df['funded_amnt_inv'].apply(lambda x: loan_amount(x))"
      ],
      "execution_count": 0,
      "outputs": []
    },
    {
      "cell_type": "code",
      "metadata": {
        "id": "QzNiOlqqZ6o7",
        "colab_type": "code",
        "colab": {}
      },
      "source": [
        "# funded amount invested\n",
        "plot_cat('funded_amnt_inv')"
      ],
      "execution_count": 0,
      "outputs": []
    },
    {
      "cell_type": "code",
      "metadata": {
        "id": "Gauh870-Z6pB",
        "colab_type": "code",
        "colab": {}
      },
      "source": [
        "# lets also convert interest rate to low, medium, high\n",
        "# binning loan amount\n",
        "def int_rate(n):\n",
        "    if n <= 10:\n",
        "        return 'low'\n",
        "    elif n > 10 and n <=15:\n",
        "        return 'medium'\n",
        "    else:\n",
        "        return 'high'\n",
        "    \n",
        "    \n",
        "df['int_rate'] = df['int_rate'].apply(lambda x: int_rate(x))"
      ],
      "execution_count": 0,
      "outputs": []
    },
    {
      "cell_type": "code",
      "metadata": {
        "id": "RVKDNcxWZ6pG",
        "colab_type": "code",
        "colab": {}
      },
      "source": [
        "# comparing default rates across rates of interest\n",
        "# high interest rates default more, as expected\n",
        "plot_cat('int_rate')"
      ],
      "execution_count": 0,
      "outputs": []
    },
    {
      "cell_type": "code",
      "metadata": {
        "id": "qK1jWfGOZ6pL",
        "colab_type": "code",
        "colab": {}
      },
      "source": [
        "# debt to income ratio\n",
        "def dti(n):\n",
        "    if n <= 10:\n",
        "        return 'low'\n",
        "    elif n > 10 and n <=20:\n",
        "        return 'medium'\n",
        "    else:\n",
        "        return 'high'\n",
        "    \n",
        "\n",
        "df['dti'] = df['dti'].apply(lambda x: dti(x))"
      ],
      "execution_count": 0,
      "outputs": []
    },
    {
      "cell_type": "code",
      "metadata": {
        "id": "RnjqbMmyZ6pQ",
        "colab_type": "code",
        "colab": {}
      },
      "source": [
        "# comparing default rates across debt to income ratio\n",
        "# high dti translates into higher default rates, as expected\n",
        "plot_cat('dti')"
      ],
      "execution_count": 0,
      "outputs": []
    },
    {
      "cell_type": "code",
      "metadata": {
        "id": "4R3e8RbxZ6pV",
        "colab_type": "code",
        "colab": {}
      },
      "source": [
        "# funded amount\n",
        "def funded_amount(n):\n",
        "    if n <= 5000:\n",
        "        return 'low'\n",
        "    elif n > 5000 and n <=15000:\n",
        "        return 'medium'\n",
        "    else:\n",
        "        return 'high'\n",
        "    \n",
        "df['funded_amnt'] = df['funded_amnt'].apply(lambda x: funded_amount(x))"
      ],
      "execution_count": 0,
      "outputs": []
    },
    {
      "cell_type": "code",
      "metadata": {
        "id": "Er4MGgQFZ6pb",
        "colab_type": "code",
        "colab": {}
      },
      "source": [
        "plot_cat('funded_amnt')\n"
      ],
      "execution_count": 0,
      "outputs": []
    },
    {
      "cell_type": "code",
      "metadata": {
        "id": "SiCoFVDPZ6pm",
        "colab_type": "code",
        "colab": {}
      },
      "source": [
        "# installment\n",
        "def installment(n):\n",
        "    if n <= 200:\n",
        "        return 'low'\n",
        "    elif n > 200 and n <=400:\n",
        "        return 'medium'\n",
        "    elif n > 400 and n <=600:\n",
        "        return 'high'\n",
        "    else:\n",
        "        return 'very high'\n",
        "    \n",
        "df['installment'] = df['installment'].apply(lambda x: installment(x))"
      ],
      "execution_count": 0,
      "outputs": []
    },
    {
      "cell_type": "code",
      "metadata": {
        "id": "-vKqftRnZ6pv",
        "colab_type": "code",
        "colab": {}
      },
      "source": [
        "# comparing default rates across installment\n",
        "# the higher the installment amount, the higher the default rate\n",
        "plot_cat('installment')"
      ],
      "execution_count": 0,
      "outputs": []
    },
    {
      "cell_type": "code",
      "metadata": {
        "id": "T1swYzr-Z6pz",
        "colab_type": "code",
        "colab": {}
      },
      "source": [
        "# annual income\n",
        "def annual_income(n):\n",
        "    if n <= 50000:\n",
        "        return 'low'\n",
        "    elif n > 50000 and n <=100000:\n",
        "        return 'medium'\n",
        "    elif n > 100000 and n <=150000:\n",
        "        return 'high'\n",
        "    else:\n",
        "        return 'very high'\n",
        "\n",
        "df['annual_inc'] = df['annual_inc'].apply(lambda x: annual_income(x))"
      ],
      "execution_count": 0,
      "outputs": []
    },
    {
      "cell_type": "code",
      "metadata": {
        "id": "uf-qtQfgZ6p3",
        "colab_type": "code",
        "colab": {}
      },
      "source": [
        "# annual income and default rate\n",
        "# lower the annual income, higher the default rate\n",
        "plot_cat('annual_inc')"
      ],
      "execution_count": 0,
      "outputs": []
    },
    {
      "cell_type": "code",
      "metadata": {
        "id": "4Hxv6Y-WZ6qA",
        "colab_type": "code",
        "colab": {}
      },
      "source": [
        "# employment length\n",
        "# first, let's drop the missing value observations in emp length\n",
        "df = df[~df['emp_length'].isnull()]\n",
        "\n",
        "# binning the variable\n",
        "def emp_length(n):\n",
        "    if n <= 1:\n",
        "        return 'fresher'\n",
        "    elif n > 1 and n <=3:\n",
        "        return 'junior'\n",
        "    elif n > 3 and n <=7:\n",
        "        return 'senior'\n",
        "    else:\n",
        "        return 'expert'\n",
        "\n",
        "df['emp_length'] = df['emp_length'].apply(lambda x: emp_length(x))"
      ],
      "execution_count": 0,
      "outputs": []
    },
    {
      "cell_type": "code",
      "metadata": {
        "id": "H91Mru4NZ6qE",
        "colab_type": "code",
        "colab": {}
      },
      "source": [
        "# emp_length and default rate\n",
        "# not much of a predictor of default\n",
        "plot_cat('emp_length')"
      ],
      "execution_count": 0,
      "outputs": []
    },
    {
      "cell_type": "markdown",
      "metadata": {
        "id": "MAIktOMlZ6qM",
        "colab_type": "text"
      },
      "source": [
        "## Segmented Univariate Analysis\n",
        "\n",
        "We have now compared the default rates across various variables, and some of the important predictors are purpose of the loan, interest rate, annual income, grade etc.\n",
        "\n",
        "In the credit industry, one of the most important factors affecting default is the purpose of the loan - home loans perform differently than credit cards, credit cards are very different from debt condolidation loans etc. \n",
        "\n",
        "This comes from business understanding, though let's again have a look at the default rates across the purpose of the loan.\n"
      ]
    },
    {
      "cell_type": "code",
      "metadata": {
        "id": "WXRnjQpXZ6qN",
        "colab_type": "code",
        "colab": {}
      },
      "source": [
        "# purpose: small business loans defualt the most, then renewable energy and education\n",
        "plt.figure(figsize=(16, 6))\n",
        "plot_cat('purpose')"
      ],
      "execution_count": 0,
      "outputs": []
    },
    {
      "cell_type": "markdown",
      "metadata": {
        "id": "UkVEB9onZ6qT",
        "colab_type": "text"
      },
      "source": [
        "In the upcoming analyses, we will segment the loan applications across the purpose of the loan, since that is a variable affecting many other variables - the type of applicant, interest rate, income, and finally the default rate. "
      ]
    },
    {
      "cell_type": "code",
      "metadata": {
        "id": "ZAUUvQK9Z6qW",
        "colab_type": "code",
        "colab": {}
      },
      "source": [
        "# lets first look at the number of loans for each type (purpose) of the loan\n",
        "# most loans are debt consolidation (to repay otehr debts), then credit card, major purchase etc.\n",
        "plt.figure(figsize=(16, 6))\n",
        "sns.countplot(x='purpose', data=df)\n",
        "plt.show()"
      ],
      "execution_count": 0,
      "outputs": []
    },
    {
      "cell_type": "markdown",
      "metadata": {
        "id": "hNganZRlZ6qa",
        "colab_type": "text"
      },
      "source": [
        "Let's analyse the top 4 types of loans based on purpose: consolidation, credit card, home improvement and major purchase."
      ]
    },
    {
      "cell_type": "code",
      "metadata": {
        "id": "FX-z6fsGZ6qa",
        "colab_type": "code",
        "colab": {}
      },
      "source": [
        "# filtering the df for the 4 types of loans mentioned above\n",
        "main_purposes = [\"credit_card\",\"debt_consolidation\",\"home_improvement\",\"major_purchase\"]\n",
        "df = df[df['purpose'].isin(main_purposes)]\n",
        "df['purpose'].value_counts()"
      ],
      "execution_count": 0,
      "outputs": []
    },
    {
      "cell_type": "code",
      "metadata": {
        "id": "2jamaXQFZ6qg",
        "colab_type": "code",
        "colab": {}
      },
      "source": [
        "# plotting number of loans by purpose \n",
        "sns.countplot(x=df['purpose'])\n",
        "plt.show()"
      ],
      "execution_count": 0,
      "outputs": []
    },
    {
      "cell_type": "code",
      "metadata": {
        "id": "ID3bLyFzZ6ql",
        "colab_type": "code",
        "colab": {}
      },
      "source": [
        "# let's now compare the default rates across two types of categorical variables\n",
        "# purpose of loan (constant) and another categorical variable (which changes)\n",
        "\n",
        "plt.figure(figsize=[10, 6])\n",
        "sns.barplot(x='term', y=\"loan_status\", hue='purpose', data=df)\n",
        "plt.show()\n"
      ],
      "execution_count": 0,
      "outputs": []
    },
    {
      "cell_type": "code",
      "metadata": {
        "id": "50AuY0BVZ6qo",
        "colab_type": "code",
        "colab": {}
      },
      "source": [
        "# lets write a function which takes a categorical variable and plots the default rate\n",
        "# segmented by purpose \n",
        "\n",
        "def plot_segmented(cat_var):\n",
        "    plt.figure(figsize=(10, 6))\n",
        "    sns.barplot(x=cat_var, y='loan_status', hue='purpose', data=df)\n",
        "    plt.show()\n",
        "\n",
        "    \n",
        "plot_segmented('term')"
      ],
      "execution_count": 0,
      "outputs": []
    },
    {
      "cell_type": "code",
      "metadata": {
        "id": "cGMGCmXJZ6qr",
        "colab_type": "code",
        "colab": {}
      },
      "source": [
        "# grade of loan\n",
        "plot_segmented('grade')"
      ],
      "execution_count": 0,
      "outputs": []
    },
    {
      "cell_type": "code",
      "metadata": {
        "id": "K61WbaayZ6qu",
        "colab_type": "code",
        "colab": {}
      },
      "source": [
        "# home ownership\n",
        "plot_segmented('home_ownership')"
      ],
      "execution_count": 0,
      "outputs": []
    },
    {
      "cell_type": "markdown",
      "metadata": {
        "id": "GtcQsN80Z6qw",
        "colab_type": "text"
      },
      "source": [
        "In general, debt consolidation loans have the highest default rates. Lets compare across other categories as well."
      ]
    },
    {
      "cell_type": "code",
      "metadata": {
        "id": "wM8vgF6aZ6qx",
        "colab_type": "code",
        "colab": {}
      },
      "source": [
        "# year\n",
        "plot_segmented('year')"
      ],
      "execution_count": 0,
      "outputs": []
    },
    {
      "cell_type": "code",
      "metadata": {
        "id": "l4rs1UQeZ6q0",
        "colab_type": "code",
        "colab": {}
      },
      "source": [
        "# emp_length\n",
        "plot_segmented('emp_length')"
      ],
      "execution_count": 0,
      "outputs": []
    },
    {
      "cell_type": "code",
      "metadata": {
        "id": "Vao7ExGoZ6q3",
        "colab_type": "code",
        "colab": {}
      },
      "source": [
        "# loan_amnt: same trend across loan purposes\n",
        "plot_segmented('loan_amnt')"
      ],
      "execution_count": 0,
      "outputs": []
    },
    {
      "cell_type": "code",
      "metadata": {
        "id": "LQC1agZcZ6q7",
        "colab_type": "code",
        "colab": {}
      },
      "source": [
        "# interest rate\n",
        "plot_segmented('int_rate')"
      ],
      "execution_count": 0,
      "outputs": []
    },
    {
      "cell_type": "code",
      "metadata": {
        "id": "hcXOMDEKZ6q_",
        "colab_type": "code",
        "colab": {}
      },
      "source": [
        "# installment\n",
        "plot_segmented('installment')"
      ],
      "execution_count": 0,
      "outputs": []
    },
    {
      "cell_type": "code",
      "metadata": {
        "id": "OFrpB6ImZ6rD",
        "colab_type": "code",
        "colab": {}
      },
      "source": [
        "# debt to income ratio\n",
        "plot_segmented('dti')"
      ],
      "execution_count": 0,
      "outputs": []
    },
    {
      "cell_type": "code",
      "metadata": {
        "id": "YQEahWYpZ6rF",
        "colab_type": "code",
        "colab": {}
      },
      "source": [
        "# annual income\n",
        "plot_segmented('annual_inc')"
      ],
      "execution_count": 0,
      "outputs": []
    },
    {
      "cell_type": "markdown",
      "metadata": {
        "id": "By6zGimFZ6rI",
        "colab_type": "text"
      },
      "source": [
        "A good way to quantify th effect of a categorical variable on default rate is to see 'how much does the default rate vary across the categories'. \n",
        "\n",
        "Let's see an example using annual_inc as the categorical variable."
      ]
    },
    {
      "cell_type": "code",
      "metadata": {
        "id": "NhJGJRU3Z6rK",
        "colab_type": "code",
        "colab": {}
      },
      "source": [
        "# variation of default rate across annual_inc\n",
        "df.groupby('annual_inc').loan_status.mean().sort_values(ascending=False)"
      ],
      "execution_count": 0,
      "outputs": []
    },
    {
      "cell_type": "code",
      "metadata": {
        "id": "WKx903tuZ6rM",
        "colab_type": "code",
        "colab": {}
      },
      "source": [
        "# one can write a function which takes in a categorical variable and computed the average \n",
        "# default rate across the categories\n",
        "# It can also compute the 'difference between the highest and the lowest default rate' across the \n",
        "# categories, which is a decent metric indicating the effect of the varaible on default rate\n",
        "\n",
        "def diff_rate(cat_var):\n",
        "    default_rates = df.groupby(cat_var).loan_status.mean().sort_values(ascending=False)\n",
        "    return (round(default_rates, 2), round(default_rates[0] - default_rates[-1], 2))\n",
        "\n",
        "default_rates, diff = diff_rate('annual_inc')\n",
        "print(default_rates) \n",
        "print(diff)\n"
      ],
      "execution_count": 0,
      "outputs": []
    },
    {
      "cell_type": "markdown",
      "metadata": {
        "id": "wZI1A6SpZ6rQ",
        "colab_type": "text"
      },
      "source": [
        "Thus, there is a 6% increase in default rate as you go from high to low annual income. We can compute this difference for all the variables and roughly identify the ones that affect default rate the most."
      ]
    },
    {
      "cell_type": "code",
      "metadata": {
        "id": "7G6tCcsRZ6rR",
        "colab_type": "code",
        "colab": {}
      },
      "source": [
        "# filtering all the object type variables\n",
        "df_categorical = df.loc[:, df.dtypes == object]\n",
        "df_categorical['loan_status'] = df['loan_status']\n",
        "\n",
        "# Now, for each variable, we can compute the incremental diff in default rates\n",
        "print([i for i in df.columns])"
      ],
      "execution_count": 0,
      "outputs": []
    },
    {
      "cell_type": "code",
      "metadata": {
        "id": "-gMHRJPEZ6ri",
        "colab_type": "code",
        "colab": {}
      },
      "source": [
        "# storing the diff of default rates for each column in a dict\n",
        "d = {key: diff_rate(key)[1]*100 for key in df_categorical.columns if key != 'loan_status'}\n",
        "print(d)"
      ],
      "execution_count": 0,
      "outputs": []
    }
  ]
}